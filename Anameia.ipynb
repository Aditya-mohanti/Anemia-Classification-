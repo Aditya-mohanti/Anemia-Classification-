{
 "cells": [
  {
   "cell_type": "code",
   "execution_count": 1,
   "id": "554b8b28",
   "metadata": {},
   "outputs": [],
   "source": [
    "import numpy as np \n",
    "import pandas as pd \n",
    "import matplotlib.pyplot as plt\n",
    "import seaborn as sns\n",
    "from sklearn.metrics import r2_score,confusion_matrix\n",
    "from sklearn.ensemble import RandomForestClassifier\n",
    "from sklearn.neighbors import KNeighborsClassifier\n",
    "from IPython.display import Image\n",
    "import os"
   ]
  },
  {
   "cell_type": "code",
   "execution_count": 2,
   "id": "f11a8940",
   "metadata": {},
   "outputs": [],
   "source": [
    "plt.style.use(\"seaborn-v0_8-darkgrid\")"
   ]
  },
  {
   "cell_type": "code",
   "execution_count": 3,
   "id": "cc25f472",
   "metadata": {},
   "outputs": [],
   "source": [
    "import warnings\n",
    "# filter warnings\n",
    "warnings.filterwarnings('ignore')\n",
    "\n",
    "for dirname, _, filenames in os.walk('/kaggle/input'):\n",
    "    for filename in filenames:\n",
    "        print(os.path.join(dirname, filename))"
   ]
  },
  {
   "cell_type": "code",
   "execution_count": 4,
   "id": "c40f3afa",
   "metadata": {},
   "outputs": [],
   "source": [
    "data = pd.read_csv(\"C:\\\\code\\\\anameia.csv\")"
   ]
  },
  {
   "cell_type": "code",
   "execution_count": 5,
   "id": "2cc99c0f",
   "metadata": {},
   "outputs": [
    {
     "data": {
      "text/html": [
       "<div>\n",
       "<style scoped>\n",
       "    .dataframe tbody tr th:only-of-type {\n",
       "        vertical-align: middle;\n",
       "    }\n",
       "\n",
       "    .dataframe tbody tr th {\n",
       "        vertical-align: top;\n",
       "    }\n",
       "\n",
       "    .dataframe thead th {\n",
       "        text-align: right;\n",
       "    }\n",
       "</style>\n",
       "<table border=\"1\" class=\"dataframe\">\n",
       "  <thead>\n",
       "    <tr style=\"text-align: right;\">\n",
       "      <th></th>\n",
       "      <th>S. No.</th>\n",
       "      <th>Age</th>\n",
       "      <th>Sex</th>\n",
       "      <th>RBC</th>\n",
       "      <th>PCV</th>\n",
       "      <th>MCV</th>\n",
       "      <th>MCH</th>\n",
       "      <th>MCHC</th>\n",
       "      <th>RDW</th>\n",
       "      <th>TLC</th>\n",
       "      <th>PLT /mm3</th>\n",
       "      <th>HGB</th>\n",
       "    </tr>\n",
       "  </thead>\n",
       "  <tbody>\n",
       "    <tr>\n",
       "      <th>0</th>\n",
       "      <td>NaN</td>\n",
       "      <td>NaN</td>\n",
       "      <td>NaN</td>\n",
       "      <td>Red Blood Cell count</td>\n",
       "      <td>Packed Cell Volume</td>\n",
       "      <td>Mean Cell Volume</td>\n",
       "      <td>Mean Cell Hemoglobin</td>\n",
       "      <td>NaN</td>\n",
       "      <td>Red Cell Distribution width</td>\n",
       "      <td>White Blood Cell (WBC count),</td>\n",
       "      <td>Platelet</td>\n",
       "      <td>Hemoglobin</td>\n",
       "    </tr>\n",
       "    <tr>\n",
       "      <th>1</th>\n",
       "      <td>1.0</td>\n",
       "      <td>28.0</td>\n",
       "      <td>0.0</td>\n",
       "      <td>5.66</td>\n",
       "      <td>34</td>\n",
       "      <td>60.1</td>\n",
       "      <td>17</td>\n",
       "      <td>28.2</td>\n",
       "      <td>20</td>\n",
       "      <td>11.1</td>\n",
       "      <td>128.3</td>\n",
       "      <td>9.6</td>\n",
       "    </tr>\n",
       "    <tr>\n",
       "      <th>2</th>\n",
       "      <td>2.0</td>\n",
       "      <td>41.0</td>\n",
       "      <td>0.0</td>\n",
       "      <td>4.78</td>\n",
       "      <td>44.5</td>\n",
       "      <td>93.1</td>\n",
       "      <td>28.9</td>\n",
       "      <td>31.0</td>\n",
       "      <td>13</td>\n",
       "      <td>7.02</td>\n",
       "      <td>419</td>\n",
       "      <td>13.8</td>\n",
       "    </tr>\n",
       "    <tr>\n",
       "      <th>3</th>\n",
       "      <td>3.0</td>\n",
       "      <td>40.0</td>\n",
       "      <td>1.0</td>\n",
       "      <td>4.65</td>\n",
       "      <td>41.6</td>\n",
       "      <td>89.5</td>\n",
       "      <td>28.8</td>\n",
       "      <td>32.2</td>\n",
       "      <td>13</td>\n",
       "      <td>8.09</td>\n",
       "      <td>325</td>\n",
       "      <td>13.4</td>\n",
       "    </tr>\n",
       "    <tr>\n",
       "      <th>4</th>\n",
       "      <td>4.0</td>\n",
       "      <td>76.0</td>\n",
       "      <td>0.0</td>\n",
       "      <td>4.24</td>\n",
       "      <td>36.7</td>\n",
       "      <td>86.6</td>\n",
       "      <td>26.7</td>\n",
       "      <td>30.8</td>\n",
       "      <td>14.9</td>\n",
       "      <td>13.41</td>\n",
       "      <td>264</td>\n",
       "      <td>11.3</td>\n",
       "    </tr>\n",
       "  </tbody>\n",
       "</table>\n",
       "</div>"
      ],
      "text/plain": [
       "   S. No.  Age        Sex                 RBC                     PCV  \\\n",
       "0     NaN        NaN    NaN  Red Blood Cell count  Packed Cell Volume   \n",
       "1     1.0       28.0    0.0                  5.66                  34   \n",
       "2     2.0       41.0    0.0                  4.78                44.5   \n",
       "3     3.0       40.0    1.0                  4.65                41.6   \n",
       "4     4.0       76.0    0.0                  4.24                36.7   \n",
       "\n",
       "              MCV                     MCH   MCHC    \\\n",
       "0  Mean Cell Volume  Mean Cell Hemoglobin      NaN   \n",
       "1              60.1                    17     28.2   \n",
       "2              93.1                  28.9     31.0   \n",
       "3              89.5                  28.8     32.2   \n",
       "4              86.6                  26.7     30.8   \n",
       "\n",
       "                       RDW                                TLC  PLT /mm3  \\\n",
       "0  Red Cell Distribution width  White Blood Cell (WBC count),  Platelet   \n",
       "1                           20                           11.1     128.3   \n",
       "2                           13                           7.02       419   \n",
       "3                           13                           8.09       325   \n",
       "4                         14.9                          13.41       264   \n",
       "\n",
       "         HGB   \n",
       "0  Hemoglobin  \n",
       "1         9.6  \n",
       "2        13.8  \n",
       "3        13.4  \n",
       "4        11.3  "
      ]
     },
     "execution_count": 5,
     "metadata": {},
     "output_type": "execute_result"
    }
   ],
   "source": [
    "data.head()"
   ]
  },
  {
   "cell_type": "code",
   "execution_count": 6,
   "id": "05623d25",
   "metadata": {},
   "outputs": [
    {
     "name": "stdout",
     "output_type": "stream",
     "text": [
      "<class 'pandas.core.frame.DataFrame'>\n",
      "RangeIndex: 365 entries, 0 to 364\n",
      "Data columns (total 12 columns):\n",
      " #   Column     Non-Null Count  Dtype  \n",
      "---  ------     --------------  -----  \n",
      " 0   S. No.     364 non-null    float64\n",
      " 1   Age        364 non-null    float64\n",
      " 2   Sex        364 non-null    float64\n",
      " 3     RBC      365 non-null    object \n",
      " 4   PCV        365 non-null    object \n",
      " 5   MCV        365 non-null    object \n",
      " 6   MCH        365 non-null    object \n",
      " 7    MCHC      364 non-null    float64\n",
      " 8    RDW       365 non-null    object \n",
      " 9   TLC        365 non-null    object \n",
      " 10   PLT /mm3  365 non-null    object \n",
      " 11   HGB       365 non-null    object \n",
      "dtypes: float64(4), object(8)\n",
      "memory usage: 34.3+ KB\n"
     ]
    }
   ],
   "source": [
    "data.info()"
   ]
  },
  {
   "cell_type": "code",
   "execution_count": 7,
   "id": "02c43774",
   "metadata": {},
   "outputs": [
    {
     "data": {
      "text/html": [
       "<div>\n",
       "<style scoped>\n",
       "    .dataframe tbody tr th:only-of-type {\n",
       "        vertical-align: middle;\n",
       "    }\n",
       "\n",
       "    .dataframe tbody tr th {\n",
       "        vertical-align: top;\n",
       "    }\n",
       "\n",
       "    .dataframe thead th {\n",
       "        text-align: right;\n",
       "    }\n",
       "</style>\n",
       "<table border=\"1\" class=\"dataframe\">\n",
       "  <thead>\n",
       "    <tr style=\"text-align: right;\">\n",
       "      <th></th>\n",
       "      <th>S. No.</th>\n",
       "      <th>Age</th>\n",
       "      <th>Sex</th>\n",
       "      <th>MCHC</th>\n",
       "    </tr>\n",
       "  </thead>\n",
       "  <tbody>\n",
       "    <tr>\n",
       "      <th>count</th>\n",
       "      <td>364.000000</td>\n",
       "      <td>364.000000</td>\n",
       "      <td>364.000000</td>\n",
       "      <td>364.000000</td>\n",
       "    </tr>\n",
       "    <tr>\n",
       "      <th>mean</th>\n",
       "      <td>182.500000</td>\n",
       "      <td>44.917582</td>\n",
       "      <td>0.442308</td>\n",
       "      <td>32.053407</td>\n",
       "    </tr>\n",
       "    <tr>\n",
       "      <th>std</th>\n",
       "      <td>105.221988</td>\n",
       "      <td>18.780854</td>\n",
       "      <td>0.497344</td>\n",
       "      <td>2.801790</td>\n",
       "    </tr>\n",
       "    <tr>\n",
       "      <th>min</th>\n",
       "      <td>1.000000</td>\n",
       "      <td>11.000000</td>\n",
       "      <td>0.000000</td>\n",
       "      <td>23.600000</td>\n",
       "    </tr>\n",
       "    <tr>\n",
       "      <th>25%</th>\n",
       "      <td>91.750000</td>\n",
       "      <td>28.000000</td>\n",
       "      <td>0.000000</td>\n",
       "      <td>30.300000</td>\n",
       "    </tr>\n",
       "    <tr>\n",
       "      <th>50%</th>\n",
       "      <td>182.500000</td>\n",
       "      <td>44.500000</td>\n",
       "      <td>0.000000</td>\n",
       "      <td>31.700000</td>\n",
       "    </tr>\n",
       "    <tr>\n",
       "      <th>75%</th>\n",
       "      <td>273.250000</td>\n",
       "      <td>60.000000</td>\n",
       "      <td>1.000000</td>\n",
       "      <td>33.300000</td>\n",
       "    </tr>\n",
       "    <tr>\n",
       "      <th>max</th>\n",
       "      <td>364.000000</td>\n",
       "      <td>89.000000</td>\n",
       "      <td>1.000000</td>\n",
       "      <td>50.200000</td>\n",
       "    </tr>\n",
       "  </tbody>\n",
       "</table>\n",
       "</div>"
      ],
      "text/plain": [
       "           S. No.   Age             Sex        MCHC  \n",
       "count  364.000000  364.000000  364.000000  364.000000\n",
       "mean   182.500000   44.917582    0.442308   32.053407\n",
       "std    105.221988   18.780854    0.497344    2.801790\n",
       "min      1.000000   11.000000    0.000000   23.600000\n",
       "25%     91.750000   28.000000    0.000000   30.300000\n",
       "50%    182.500000   44.500000    0.000000   31.700000\n",
       "75%    273.250000   60.000000    1.000000   33.300000\n",
       "max    364.000000   89.000000    1.000000   50.200000"
      ]
     },
     "execution_count": 7,
     "metadata": {},
     "output_type": "execute_result"
    }
   ],
   "source": [
    "data.describe()"
   ]
  },
  {
   "cell_type": "code",
   "execution_count": 8,
   "id": "71d5e754",
   "metadata": {},
   "outputs": [],
   "source": [
    "data = data.copy()"
   ]
  },
  {
   "cell_type": "code",
   "execution_count": 22,
   "id": "dfd067d5",
   "metadata": {},
   "outputs": [
    {
     "data": {
      "text/html": [
       "<div>\n",
       "<style scoped>\n",
       "    .dataframe tbody tr th:only-of-type {\n",
       "        vertical-align: middle;\n",
       "    }\n",
       "\n",
       "    .dataframe tbody tr th {\n",
       "        vertical-align: top;\n",
       "    }\n",
       "\n",
       "    .dataframe thead th {\n",
       "        text-align: right;\n",
       "    }\n",
       "</style>\n",
       "<table border=\"1\" class=\"dataframe\">\n",
       "  <thead>\n",
       "    <tr style=\"text-align: right;\">\n",
       "      <th></th>\n",
       "      <th>S.No.</th>\n",
       "      <th>Age</th>\n",
       "      <th>Sex</th>\n",
       "      <th>RBC</th>\n",
       "      <th>PCV</th>\n",
       "      <th>MCV</th>\n",
       "      <th>MCH</th>\n",
       "      <th>MCHC</th>\n",
       "      <th>RDW</th>\n",
       "      <th>TLC</th>\n",
       "      <th>PLT/mm3</th>\n",
       "      <th>HGB</th>\n",
       "    </tr>\n",
       "  </thead>\n",
       "  <tbody>\n",
       "    <tr>\n",
       "      <th>1</th>\n",
       "      <td>1.0</td>\n",
       "      <td>28.0</td>\n",
       "      <td>0.0</td>\n",
       "      <td>5.66</td>\n",
       "      <td>34</td>\n",
       "      <td>60.1</td>\n",
       "      <td>17</td>\n",
       "      <td>28.2</td>\n",
       "      <td>20</td>\n",
       "      <td>11.1</td>\n",
       "      <td>128.3</td>\n",
       "      <td>9.6</td>\n",
       "    </tr>\n",
       "    <tr>\n",
       "      <th>2</th>\n",
       "      <td>2.0</td>\n",
       "      <td>41.0</td>\n",
       "      <td>0.0</td>\n",
       "      <td>4.78</td>\n",
       "      <td>44.5</td>\n",
       "      <td>93.1</td>\n",
       "      <td>28.9</td>\n",
       "      <td>31.0</td>\n",
       "      <td>13</td>\n",
       "      <td>7.02</td>\n",
       "      <td>419</td>\n",
       "      <td>13.8</td>\n",
       "    </tr>\n",
       "    <tr>\n",
       "      <th>3</th>\n",
       "      <td>3.0</td>\n",
       "      <td>40.0</td>\n",
       "      <td>1.0</td>\n",
       "      <td>4.65</td>\n",
       "      <td>41.6</td>\n",
       "      <td>89.5</td>\n",
       "      <td>28.8</td>\n",
       "      <td>32.2</td>\n",
       "      <td>13</td>\n",
       "      <td>8.09</td>\n",
       "      <td>325</td>\n",
       "      <td>13.4</td>\n",
       "    </tr>\n",
       "    <tr>\n",
       "      <th>4</th>\n",
       "      <td>4.0</td>\n",
       "      <td>76.0</td>\n",
       "      <td>0.0</td>\n",
       "      <td>4.24</td>\n",
       "      <td>36.7</td>\n",
       "      <td>86.6</td>\n",
       "      <td>26.7</td>\n",
       "      <td>30.8</td>\n",
       "      <td>14.9</td>\n",
       "      <td>13.41</td>\n",
       "      <td>264</td>\n",
       "      <td>11.3</td>\n",
       "    </tr>\n",
       "    <tr>\n",
       "      <th>5</th>\n",
       "      <td>5.0</td>\n",
       "      <td>20.0</td>\n",
       "      <td>1.0</td>\n",
       "      <td>4.14</td>\n",
       "      <td>36.9</td>\n",
       "      <td>89.1</td>\n",
       "      <td>27.8</td>\n",
       "      <td>31.2</td>\n",
       "      <td>13.2</td>\n",
       "      <td>4.75</td>\n",
       "      <td>196</td>\n",
       "      <td>11.5</td>\n",
       "    </tr>\n",
       "  </tbody>\n",
       "</table>\n",
       "</div>"
      ],
      "text/plain": [
       "   S.No.   Age  Sex   RBC   PCV   MCV   MCH  MCHC   RDW    TLC PLT/mm3   HGB\n",
       "1    1.0  28.0  0.0  5.66    34  60.1    17  28.2    20   11.1   128.3   9.6\n",
       "2    2.0  41.0  0.0  4.78  44.5  93.1  28.9  31.0    13   7.02     419  13.8\n",
       "3    3.0  40.0  1.0  4.65  41.6  89.5  28.8  32.2    13   8.09     325  13.4\n",
       "4    4.0  76.0  0.0  4.24  36.7  86.6  26.7  30.8  14.9  13.41     264  11.3\n",
       "5    5.0  20.0  1.0  4.14  36.9  89.1  27.8  31.2  13.2   4.75     196  11.5"
      ]
     },
     "execution_count": 22,
     "metadata": {},
     "output_type": "execute_result"
    }
   ],
   "source": [
    "data.head()"
   ]
  },
  {
   "cell_type": "code",
   "execution_count": null,
   "id": "193283b4",
   "metadata": {},
   "outputs": [],
   "source": []
  },
  {
   "cell_type": "code",
   "execution_count": 23,
   "id": "81dfbbc5",
   "metadata": {},
   "outputs": [
    {
     "name": "stdout",
     "output_type": "stream",
     "text": [
      "Index(['S.No.', 'Age', 'Sex', 'RBC', 'PCV', 'MCV', 'MCH', 'MCHC', 'RDW', 'TLC',\n",
      "       'PLT/mm3', 'HGB'],\n",
      "      dtype='object')\n"
     ]
    }
   ],
   "source": [
    "print(data.columns)"
   ]
  },
  {
   "cell_type": "code",
   "execution_count": 24,
   "id": "fb76d581",
   "metadata": {},
   "outputs": [
    {
     "name": "stdout",
     "output_type": "stream",
     "text": [
      "Index(['S.No.', 'Age', 'Sex', 'RBC', 'PCV', 'MCV', 'MCH', 'MCHC', 'RDW', 'TLC',\n",
      "       'PLT/mm3', 'HGB'],\n",
      "      dtype='object')\n"
     ]
    }
   ],
   "source": [
    "data.columns = data.columns.str.replace(' ', '')\n",
    "print(data.columns)"
   ]
  },
  {
   "cell_type": "markdown",
   "id": "ae934fd3",
   "metadata": {},
   "source": [
    "# Extracting  "
   ]
  },
  {
   "cell_type": "code",
   "execution_count": 34,
   "id": "8f8bba74",
   "metadata": {},
   "outputs": [],
   "source": [
    "filtered_data = data.dropna(inplace=False)  # Use inplace=False to return a new DataFrame\n",
    "data = filtered_data.copy()"
   ]
  },
  {
   "cell_type": "code",
   "execution_count": 35,
   "id": "96d00778",
   "metadata": {},
   "outputs": [
    {
     "data": {
      "text/html": [
       "<div>\n",
       "<style scoped>\n",
       "    .dataframe tbody tr th:only-of-type {\n",
       "        vertical-align: middle;\n",
       "    }\n",
       "\n",
       "    .dataframe tbody tr th {\n",
       "        vertical-align: top;\n",
       "    }\n",
       "\n",
       "    .dataframe thead th {\n",
       "        text-align: right;\n",
       "    }\n",
       "</style>\n",
       "<table border=\"1\" class=\"dataframe\">\n",
       "  <thead>\n",
       "    <tr style=\"text-align: right;\">\n",
       "      <th></th>\n",
       "      <th>index</th>\n",
       "      <th>S.No.</th>\n",
       "      <th>Age</th>\n",
       "      <th>Sex</th>\n",
       "      <th>MCHC</th>\n",
       "    </tr>\n",
       "  </thead>\n",
       "  <tbody>\n",
       "    <tr>\n",
       "      <th>count</th>\n",
       "      <td>338.000000</td>\n",
       "      <td>338.000000</td>\n",
       "      <td>338.000000</td>\n",
       "      <td>338.000000</td>\n",
       "      <td>338.000000</td>\n",
       "    </tr>\n",
       "    <tr>\n",
       "      <th>mean</th>\n",
       "      <td>185.857988</td>\n",
       "      <td>185.857988</td>\n",
       "      <td>47.251479</td>\n",
       "      <td>0.455621</td>\n",
       "      <td>32.092988</td>\n",
       "    </tr>\n",
       "    <tr>\n",
       "      <th>std</th>\n",
       "      <td>105.149790</td>\n",
       "      <td>105.149790</td>\n",
       "      <td>17.413936</td>\n",
       "      <td>0.498765</td>\n",
       "      <td>2.823787</td>\n",
       "    </tr>\n",
       "    <tr>\n",
       "      <th>min</th>\n",
       "      <td>1.000000</td>\n",
       "      <td>1.000000</td>\n",
       "      <td>18.000000</td>\n",
       "      <td>0.000000</td>\n",
       "      <td>23.600000</td>\n",
       "    </tr>\n",
       "    <tr>\n",
       "      <th>25%</th>\n",
       "      <td>97.250000</td>\n",
       "      <td>97.250000</td>\n",
       "      <td>31.250000</td>\n",
       "      <td>0.000000</td>\n",
       "      <td>30.300000</td>\n",
       "    </tr>\n",
       "    <tr>\n",
       "      <th>50%</th>\n",
       "      <td>188.500000</td>\n",
       "      <td>188.500000</td>\n",
       "      <td>47.000000</td>\n",
       "      <td>0.000000</td>\n",
       "      <td>31.700000</td>\n",
       "    </tr>\n",
       "    <tr>\n",
       "      <th>75%</th>\n",
       "      <td>275.750000</td>\n",
       "      <td>275.750000</td>\n",
       "      <td>60.000000</td>\n",
       "      <td>1.000000</td>\n",
       "      <td>33.300000</td>\n",
       "    </tr>\n",
       "    <tr>\n",
       "      <th>max</th>\n",
       "      <td>364.000000</td>\n",
       "      <td>364.000000</td>\n",
       "      <td>89.000000</td>\n",
       "      <td>1.000000</td>\n",
       "      <td>50.200000</td>\n",
       "    </tr>\n",
       "  </tbody>\n",
       "</table>\n",
       "</div>"
      ],
      "text/plain": [
       "            index       S.No.         Age         Sex        MCHC\n",
       "count  338.000000  338.000000  338.000000  338.000000  338.000000\n",
       "mean   185.857988  185.857988   47.251479    0.455621   32.092988\n",
       "std    105.149790  105.149790   17.413936    0.498765    2.823787\n",
       "min      1.000000    1.000000   18.000000    0.000000   23.600000\n",
       "25%     97.250000   97.250000   31.250000    0.000000   30.300000\n",
       "50%    188.500000  188.500000   47.000000    0.000000   31.700000\n",
       "75%    275.750000  275.750000   60.000000    1.000000   33.300000\n",
       "max    364.000000  364.000000   89.000000    1.000000   50.200000"
      ]
     },
     "execution_count": 35,
     "metadata": {},
     "output_type": "execute_result"
    }
   ],
   "source": [
    "filtered_data.describe()"
   ]
  },
  {
   "cell_type": "code",
   "execution_count": 36,
   "id": "50543b62",
   "metadata": {},
   "outputs": [
    {
     "data": {
      "text/plain": [
       "338"
      ]
     },
     "execution_count": 36,
     "metadata": {},
     "output_type": "execute_result"
    }
   ],
   "source": [
    "len(filtered_data)"
   ]
  },
  {
   "cell_type": "code",
   "execution_count": 37,
   "id": "9dc2bde2",
   "metadata": {},
   "outputs": [],
   "source": [
    "data.drop(filtered_data[filtered_data['Age'] < 18].index,inplace=True)\n",
    "filtered_data.drop(filtered_data[filtered_data['Age'] < 18].index,inplace=True)\n",
    "filtered_data.reset_index(inplace=True)\n",
    "data.reset_index(inplace=True)"
   ]
  },
  {
   "cell_type": "code",
   "execution_count": 38,
   "id": "a212264e",
   "metadata": {},
   "outputs": [
    {
     "data": {
      "text/plain": [
       "338"
      ]
     },
     "execution_count": 38,
     "metadata": {},
     "output_type": "execute_result"
    }
   ],
   "source": [
    "len(filtered_data)"
   ]
  },
  {
   "cell_type": "markdown",
   "id": "a65dc00b",
   "metadata": {},
   "source": [
    "# changing the data to float "
   ]
  },
  {
   "cell_type": "code",
   "execution_count": 39,
   "id": "586dedc3",
   "metadata": {},
   "outputs": [],
   "source": [
    "filtered_data = filtered_data.astype(\"float64\")"
   ]
  },
  {
   "cell_type": "code",
   "execution_count": 40,
   "id": "119bae0a",
   "metadata": {},
   "outputs": [
    {
     "name": "stdout",
     "output_type": "stream",
     "text": [
      "<class 'pandas.core.frame.DataFrame'>\n",
      "RangeIndex: 338 entries, 0 to 337\n",
      "Data columns (total 14 columns):\n",
      " #   Column   Non-Null Count  Dtype  \n",
      "---  ------   --------------  -----  \n",
      " 0   level_0  338 non-null    float64\n",
      " 1   index    338 non-null    float64\n",
      " 2   S.No.    338 non-null    float64\n",
      " 3   Age      338 non-null    float64\n",
      " 4   Sex      338 non-null    float64\n",
      " 5   RBC      338 non-null    float64\n",
      " 6   PCV      338 non-null    float64\n",
      " 7   MCV      338 non-null    float64\n",
      " 8   MCH      338 non-null    float64\n",
      " 9   MCHC     338 non-null    float64\n",
      " 10  RDW      338 non-null    float64\n",
      " 11  TLC      338 non-null    float64\n",
      " 12  PLT/mm3  338 non-null    float64\n",
      " 13  HGB      338 non-null    float64\n",
      "dtypes: float64(14)\n",
      "memory usage: 37.1 KB\n"
     ]
    }
   ],
   "source": [
    "filtered_data.info()"
   ]
  },
  {
   "cell_type": "markdown",
   "id": "f9299205",
   "metadata": {},
   "source": [
    "# Grouping the Data"
   ]
  },
  {
   "cell_type": "code",
   "execution_count": 41,
   "id": "29611a3a",
   "metadata": {},
   "outputs": [
    {
     "data": {
      "text/plain": [
       "Index(['level_0', 'index', 'S.No.', 'Age', 'Sex', 'RBC', 'PCV', 'MCV', 'MCH',\n",
       "       'MCHC', 'RDW', 'TLC', 'PLT/mm3', 'HGB'],\n",
       "      dtype='object')"
      ]
     },
     "execution_count": 41,
     "metadata": {},
     "output_type": "execute_result"
    }
   ],
   "source": [
    "filtered_data.columns"
   ]
  },
  {
   "cell_type": "code",
   "execution_count": 42,
   "id": "859363fb",
   "metadata": {},
   "outputs": [],
   "source": [
    "filtered_data[\"HGB\"]=[(2 if filtered_data[\"HGB\"][item] >15 else 0 if filtered_data[\"HGB\"][item] < 12 else 1) if filtered_data[\"Sex\"][item] == 0.0 else (2 if filtered_data[\"HGB\"][item] >14 else 0 if filtered_data[\"HGB\"][item] < 11 else 1) for item in range(len(filtered_data))]"
   ]
  },
  {
   "cell_type": "code",
   "execution_count": 43,
   "id": "7916351b",
   "metadata": {},
   "outputs": [],
   "source": [
    "filtered_data[\"HGB\"]=[(2 if filtered_data[\"HGB\"][item] >15 else 0 if filtered_data[\"HGB\"][item] < 12 else 1) if filtered_data[\"Sex\"][item] == 0.0 else (2 if filtered_data[\"HGB\"][item] >14 else 0 if filtered_data[\"HGB\"][item] < 11 else 1) for item in range(len(filtered_data))]"
   ]
  },
  {
   "cell_type": "code",
   "execution_count": 44,
   "id": "12c8fae3",
   "metadata": {},
   "outputs": [],
   "source": [
    "filtered_data[\"MCHC\"]=[2 if item >38 else 0 if item < 30 else 1 for item in filtered_data[\"MCHC\"]]"
   ]
  },
  {
   "cell_type": "code",
   "execution_count": 45,
   "id": "808e02f5",
   "metadata": {},
   "outputs": [],
   "source": [
    "filtered_data[\"MCH\"]=[2 if item >35 else 0 if item < 25 else 1 for item in filtered_data[\"MCH\"]]"
   ]
  },
  {
   "cell_type": "code",
   "execution_count": 46,
   "id": "34f1ccce",
   "metadata": {},
   "outputs": [],
   "source": [
    "filtered_data[\"RDW\"]=[2 if item >16 else 0 if item < 12.5 else 1 for item in filtered_data[\"RDW\"]]"
   ]
  },
  {
   "cell_type": "code",
   "execution_count": 47,
   "id": "f38ace2a",
   "metadata": {},
   "outputs": [],
   "source": [
    "filtered_data[\"PLT/mm3\"]=[2 if item >450 else 0 if item < 140 else 1 for item in filtered_data[\"PLT/mm3\"]]"
   ]
  },
  {
   "cell_type": "code",
   "execution_count": 48,
   "id": "08635080",
   "metadata": {},
   "outputs": [],
   "source": [
    "filtered_data[\"RBC\"]=[2 if item >5.8 else 0 if item < 4 else 1 for item in filtered_data[\"RBC\"]]"
   ]
  },
  {
   "cell_type": "code",
   "execution_count": 49,
   "id": "1f79c37b",
   "metadata": {},
   "outputs": [],
   "source": [
    "filtered_data[\"MCV\"]=[2 if item >115 else 0 if item < 75 else 1 for item in filtered_data[\"MCV\"]]"
   ]
  },
  {
   "cell_type": "code",
   "execution_count": 50,
   "id": "23b16e73",
   "metadata": {},
   "outputs": [],
   "source": [
    "filtered_data[\"TLC\"]=[2 if item >11 else 0 if item < 3 else 1 for item in filtered_data[\"TLC\"]]"
   ]
  },
  {
   "cell_type": "code",
   "execution_count": 51,
   "id": "ecf62f14",
   "metadata": {},
   "outputs": [],
   "source": [
    "filtered_data[\"Age\"]=[3 if item >64 else 2 if item > 48 else 1 if item>32 else 0 for item in filtered_data[\"Age\"]]"
   ]
  },
  {
   "cell_type": "code",
   "execution_count": 52,
   "id": "233e6537",
   "metadata": {},
   "outputs": [],
   "source": [
    "filtered_data2=filtered_data.drop([\"Age\",\"Sex\",\"S.No.\",\"index\"],axis=1,inplace=False)"
   ]
  },
  {
   "cell_type": "code",
   "execution_count": 54,
   "id": "d687aaba",
   "metadata": {},
   "outputs": [
    {
     "data": {
      "text/html": [
       "<div>\n",
       "<style scoped>\n",
       "    .dataframe tbody tr th:only-of-type {\n",
       "        vertical-align: middle;\n",
       "    }\n",
       "\n",
       "    .dataframe tbody tr th {\n",
       "        vertical-align: top;\n",
       "    }\n",
       "\n",
       "    .dataframe thead th {\n",
       "        text-align: right;\n",
       "    }\n",
       "</style>\n",
       "<table border=\"1\" class=\"dataframe\">\n",
       "  <thead>\n",
       "    <tr style=\"text-align: right;\">\n",
       "      <th></th>\n",
       "      <th>level_0</th>\n",
       "      <th>RBC</th>\n",
       "      <th>PCV</th>\n",
       "      <th>MCV</th>\n",
       "      <th>MCH</th>\n",
       "      <th>MCHC</th>\n",
       "      <th>RDW</th>\n",
       "      <th>TLC</th>\n",
       "      <th>PLT/mm3</th>\n",
       "      <th>HGB</th>\n",
       "    </tr>\n",
       "  </thead>\n",
       "  <tbody>\n",
       "    <tr>\n",
       "      <th>0</th>\n",
       "      <td>0.0</td>\n",
       "      <td>1</td>\n",
       "      <td>34.0</td>\n",
       "      <td>0</td>\n",
       "      <td>0</td>\n",
       "      <td>0</td>\n",
       "      <td>2</td>\n",
       "      <td>2</td>\n",
       "      <td>0</td>\n",
       "      <td>0</td>\n",
       "    </tr>\n",
       "    <tr>\n",
       "      <th>1</th>\n",
       "      <td>1.0</td>\n",
       "      <td>1</td>\n",
       "      <td>44.5</td>\n",
       "      <td>1</td>\n",
       "      <td>1</td>\n",
       "      <td>1</td>\n",
       "      <td>1</td>\n",
       "      <td>1</td>\n",
       "      <td>1</td>\n",
       "      <td>0</td>\n",
       "    </tr>\n",
       "    <tr>\n",
       "      <th>2</th>\n",
       "      <td>2.0</td>\n",
       "      <td>1</td>\n",
       "      <td>41.6</td>\n",
       "      <td>1</td>\n",
       "      <td>1</td>\n",
       "      <td>1</td>\n",
       "      <td>1</td>\n",
       "      <td>1</td>\n",
       "      <td>1</td>\n",
       "      <td>0</td>\n",
       "    </tr>\n",
       "    <tr>\n",
       "      <th>3</th>\n",
       "      <td>3.0</td>\n",
       "      <td>1</td>\n",
       "      <td>36.7</td>\n",
       "      <td>1</td>\n",
       "      <td>1</td>\n",
       "      <td>1</td>\n",
       "      <td>1</td>\n",
       "      <td>2</td>\n",
       "      <td>1</td>\n",
       "      <td>0</td>\n",
       "    </tr>\n",
       "    <tr>\n",
       "      <th>4</th>\n",
       "      <td>4.0</td>\n",
       "      <td>1</td>\n",
       "      <td>36.9</td>\n",
       "      <td>1</td>\n",
       "      <td>1</td>\n",
       "      <td>1</td>\n",
       "      <td>1</td>\n",
       "      <td>1</td>\n",
       "      <td>1</td>\n",
       "      <td>0</td>\n",
       "    </tr>\n",
       "  </tbody>\n",
       "</table>\n",
       "</div>"
      ],
      "text/plain": [
       "   level_0  RBC   PCV  MCV  MCH  MCHC  RDW  TLC  PLT/mm3  HGB\n",
       "0      0.0    1  34.0    0    0     0    2    2        0    0\n",
       "1      1.0    1  44.5    1    1     1    1    1        1    0\n",
       "2      2.0    1  41.6    1    1     1    1    1        1    0\n",
       "3      3.0    1  36.7    1    1     1    1    2        1    0\n",
       "4      4.0    1  36.9    1    1     1    1    1        1    0"
      ]
     },
     "execution_count": 54,
     "metadata": {},
     "output_type": "execute_result"
    }
   ],
   "source": [
    "filtered_data2.head()"
   ]
  },
  {
   "cell_type": "code",
   "execution_count": 55,
   "id": "023d23f8",
   "metadata": {},
   "outputs": [],
   "source": [
    "def find_diagnose(feature):\n",
    "    filtered_data2[\"diseased\"]=[1 if filtered_data2[feature][item] == 0 or filtered_data2[feature][item] == 2 else filtered_data2[\"diseased\"][item] for item in range(len(filtered_data2))]\n"
   ]
  },
  {
   "cell_type": "code",
   "execution_count": 56,
   "id": "0f425308",
   "metadata": {},
   "outputs": [],
   "source": [
    "filtered_data2[\"diseased\"] = 0\n",
    "for item in filtered_data2.columns:\n",
    "    if(item!=\"diseased\"):\n",
    "        find_diagnose(item)"
   ]
  },
  {
   "cell_type": "markdown",
   "id": "d9c63849",
   "metadata": {},
   "source": [
    "# Plotting"
   ]
  },
  {
   "cell_type": "code",
   "execution_count": 57,
   "id": "aaab099b",
   "metadata": {},
   "outputs": [],
   "source": [
    "data[\"diseased\"]=filtered_data2[\"diseased\"]\n",
    "filtered_data[\"diseased\"]=filtered_data2[\"diseased\"]\n",
    "data = data.astype(\"float64\")"
   ]
  },
  {
   "cell_type": "code",
   "execution_count": 58,
   "id": "a1736596",
   "metadata": {},
   "outputs": [
    {
     "data": {
      "text/html": [
       "<div>\n",
       "<style scoped>\n",
       "    .dataframe tbody tr th:only-of-type {\n",
       "        vertical-align: middle;\n",
       "    }\n",
       "\n",
       "    .dataframe tbody tr th {\n",
       "        vertical-align: top;\n",
       "    }\n",
       "\n",
       "    .dataframe thead th {\n",
       "        text-align: right;\n",
       "    }\n",
       "</style>\n",
       "<table border=\"1\" class=\"dataframe\">\n",
       "  <thead>\n",
       "    <tr style=\"text-align: right;\">\n",
       "      <th></th>\n",
       "      <th>level_0</th>\n",
       "      <th>index</th>\n",
       "      <th>S.No.</th>\n",
       "      <th>Age</th>\n",
       "      <th>Sex</th>\n",
       "      <th>RBC</th>\n",
       "      <th>PCV</th>\n",
       "      <th>MCV</th>\n",
       "      <th>MCH</th>\n",
       "      <th>MCHC</th>\n",
       "      <th>RDW</th>\n",
       "      <th>TLC</th>\n",
       "      <th>PLT/mm3</th>\n",
       "      <th>HGB</th>\n",
       "      <th>diseased</th>\n",
       "    </tr>\n",
       "  </thead>\n",
       "  <tbody>\n",
       "    <tr>\n",
       "      <th>0</th>\n",
       "      <td>0.0</td>\n",
       "      <td>1.0</td>\n",
       "      <td>1.0</td>\n",
       "      <td>28.0</td>\n",
       "      <td>0.0</td>\n",
       "      <td>5.66</td>\n",
       "      <td>34.0</td>\n",
       "      <td>60.1</td>\n",
       "      <td>17.0</td>\n",
       "      <td>28.2</td>\n",
       "      <td>20.0</td>\n",
       "      <td>11.10</td>\n",
       "      <td>128.3</td>\n",
       "      <td>9.6</td>\n",
       "      <td>1.0</td>\n",
       "    </tr>\n",
       "    <tr>\n",
       "      <th>1</th>\n",
       "      <td>1.0</td>\n",
       "      <td>2.0</td>\n",
       "      <td>2.0</td>\n",
       "      <td>41.0</td>\n",
       "      <td>0.0</td>\n",
       "      <td>4.78</td>\n",
       "      <td>44.5</td>\n",
       "      <td>93.1</td>\n",
       "      <td>28.9</td>\n",
       "      <td>31.0</td>\n",
       "      <td>13.0</td>\n",
       "      <td>7.02</td>\n",
       "      <td>419.0</td>\n",
       "      <td>13.8</td>\n",
       "      <td>1.0</td>\n",
       "    </tr>\n",
       "    <tr>\n",
       "      <th>2</th>\n",
       "      <td>2.0</td>\n",
       "      <td>3.0</td>\n",
       "      <td>3.0</td>\n",
       "      <td>40.0</td>\n",
       "      <td>1.0</td>\n",
       "      <td>4.65</td>\n",
       "      <td>41.6</td>\n",
       "      <td>89.5</td>\n",
       "      <td>28.8</td>\n",
       "      <td>32.2</td>\n",
       "      <td>13.0</td>\n",
       "      <td>8.09</td>\n",
       "      <td>325.0</td>\n",
       "      <td>13.4</td>\n",
       "      <td>1.0</td>\n",
       "    </tr>\n",
       "    <tr>\n",
       "      <th>3</th>\n",
       "      <td>3.0</td>\n",
       "      <td>4.0</td>\n",
       "      <td>4.0</td>\n",
       "      <td>76.0</td>\n",
       "      <td>0.0</td>\n",
       "      <td>4.24</td>\n",
       "      <td>36.7</td>\n",
       "      <td>86.6</td>\n",
       "      <td>26.7</td>\n",
       "      <td>30.8</td>\n",
       "      <td>14.9</td>\n",
       "      <td>13.41</td>\n",
       "      <td>264.0</td>\n",
       "      <td>11.3</td>\n",
       "      <td>1.0</td>\n",
       "    </tr>\n",
       "    <tr>\n",
       "      <th>4</th>\n",
       "      <td>4.0</td>\n",
       "      <td>5.0</td>\n",
       "      <td>5.0</td>\n",
       "      <td>20.0</td>\n",
       "      <td>1.0</td>\n",
       "      <td>4.14</td>\n",
       "      <td>36.9</td>\n",
       "      <td>89.1</td>\n",
       "      <td>27.8</td>\n",
       "      <td>31.2</td>\n",
       "      <td>13.2</td>\n",
       "      <td>4.75</td>\n",
       "      <td>196.0</td>\n",
       "      <td>11.5</td>\n",
       "      <td>1.0</td>\n",
       "    </tr>\n",
       "  </tbody>\n",
       "</table>\n",
       "</div>"
      ],
      "text/plain": [
       "   level_0  index  S.No.   Age  Sex   RBC   PCV   MCV   MCH  MCHC   RDW  \\\n",
       "0      0.0    1.0    1.0  28.0  0.0  5.66  34.0  60.1  17.0  28.2  20.0   \n",
       "1      1.0    2.0    2.0  41.0  0.0  4.78  44.5  93.1  28.9  31.0  13.0   \n",
       "2      2.0    3.0    3.0  40.0  1.0  4.65  41.6  89.5  28.8  32.2  13.0   \n",
       "3      3.0    4.0    4.0  76.0  0.0  4.24  36.7  86.6  26.7  30.8  14.9   \n",
       "4      4.0    5.0    5.0  20.0  1.0  4.14  36.9  89.1  27.8  31.2  13.2   \n",
       "\n",
       "     TLC  PLT/mm3   HGB  diseased  \n",
       "0  11.10    128.3   9.6       1.0  \n",
       "1   7.02    419.0  13.8       1.0  \n",
       "2   8.09    325.0  13.4       1.0  \n",
       "3  13.41    264.0  11.3       1.0  \n",
       "4   4.75    196.0  11.5       1.0  "
      ]
     },
     "execution_count": 58,
     "metadata": {},
     "output_type": "execute_result"
    }
   ],
   "source": [
    "data.head()"
   ]
  },
  {
   "cell_type": "code",
   "execution_count": 59,
   "id": "a29b379d",
   "metadata": {},
   "outputs": [],
   "source": [
    "corr=data.corr().drop(['S.No.', 'Age', 'Sex', 'RBC', 'PCV', 'MCV', 'MCH', 'MCHC', 'RDW', 'TLC',\n",
    "       'PLT/mm3', 'HGB'],axis=1)\n",
    "corr=corr.drop([\"diseased\",'S.No.'],axis=0)"
   ]
  },
  {
   "cell_type": "code",
   "execution_count": 60,
   "id": "6ad8e636",
   "metadata": {},
   "outputs": [
    {
     "data": {
      "text/html": [
       "<div>\n",
       "<style scoped>\n",
       "    .dataframe tbody tr th:only-of-type {\n",
       "        vertical-align: middle;\n",
       "    }\n",
       "\n",
       "    .dataframe tbody tr th {\n",
       "        vertical-align: top;\n",
       "    }\n",
       "\n",
       "    .dataframe thead th {\n",
       "        text-align: right;\n",
       "    }\n",
       "</style>\n",
       "<table border=\"1\" class=\"dataframe\">\n",
       "  <thead>\n",
       "    <tr style=\"text-align: right;\">\n",
       "      <th></th>\n",
       "      <th>level_0</th>\n",
       "      <th>index</th>\n",
       "      <th>diseased</th>\n",
       "    </tr>\n",
       "  </thead>\n",
       "  <tbody>\n",
       "    <tr>\n",
       "      <th>level_0</th>\n",
       "      <td>1.000000</td>\n",
       "      <td>0.999756</td>\n",
       "      <td>NaN</td>\n",
       "    </tr>\n",
       "    <tr>\n",
       "      <th>index</th>\n",
       "      <td>0.999756</td>\n",
       "      <td>1.000000</td>\n",
       "      <td>NaN</td>\n",
       "    </tr>\n",
       "    <tr>\n",
       "      <th>Age</th>\n",
       "      <td>-0.003168</td>\n",
       "      <td>-0.001488</td>\n",
       "      <td>NaN</td>\n",
       "    </tr>\n",
       "    <tr>\n",
       "      <th>Sex</th>\n",
       "      <td>0.108131</td>\n",
       "      <td>0.106251</td>\n",
       "      <td>NaN</td>\n",
       "    </tr>\n",
       "    <tr>\n",
       "      <th>RBC</th>\n",
       "      <td>-0.008601</td>\n",
       "      <td>-0.008885</td>\n",
       "      <td>NaN</td>\n",
       "    </tr>\n",
       "    <tr>\n",
       "      <th>PCV</th>\n",
       "      <td>0.008045</td>\n",
       "      <td>0.006406</td>\n",
       "      <td>NaN</td>\n",
       "    </tr>\n",
       "    <tr>\n",
       "      <th>MCV</th>\n",
       "      <td>-0.012358</td>\n",
       "      <td>-0.012648</td>\n",
       "      <td>NaN</td>\n",
       "    </tr>\n",
       "    <tr>\n",
       "      <th>MCH</th>\n",
       "      <td>0.148634</td>\n",
       "      <td>0.150259</td>\n",
       "      <td>NaN</td>\n",
       "    </tr>\n",
       "    <tr>\n",
       "      <th>MCHC</th>\n",
       "      <td>0.193616</td>\n",
       "      <td>0.197904</td>\n",
       "      <td>NaN</td>\n",
       "    </tr>\n",
       "    <tr>\n",
       "      <th>RDW</th>\n",
       "      <td>-0.122860</td>\n",
       "      <td>-0.124502</td>\n",
       "      <td>NaN</td>\n",
       "    </tr>\n",
       "    <tr>\n",
       "      <th>TLC</th>\n",
       "      <td>0.024597</td>\n",
       "      <td>0.024247</td>\n",
       "      <td>NaN</td>\n",
       "    </tr>\n",
       "    <tr>\n",
       "      <th>PLT/mm3</th>\n",
       "      <td>0.008800</td>\n",
       "      <td>0.006834</td>\n",
       "      <td>NaN</td>\n",
       "    </tr>\n",
       "    <tr>\n",
       "      <th>HGB</th>\n",
       "      <td>0.111130</td>\n",
       "      <td>0.112055</td>\n",
       "      <td>NaN</td>\n",
       "    </tr>\n",
       "  </tbody>\n",
       "</table>\n",
       "</div>"
      ],
      "text/plain": [
       "          level_0     index  diseased\n",
       "level_0  1.000000  0.999756       NaN\n",
       "index    0.999756  1.000000       NaN\n",
       "Age     -0.003168 -0.001488       NaN\n",
       "Sex      0.108131  0.106251       NaN\n",
       "RBC     -0.008601 -0.008885       NaN\n",
       "PCV      0.008045  0.006406       NaN\n",
       "MCV     -0.012358 -0.012648       NaN\n",
       "MCH      0.148634  0.150259       NaN\n",
       "MCHC     0.193616  0.197904       NaN\n",
       "RDW     -0.122860 -0.124502       NaN\n",
       "TLC      0.024597  0.024247       NaN\n",
       "PLT/mm3  0.008800  0.006834       NaN\n",
       "HGB      0.111130  0.112055       NaN"
      ]
     },
     "execution_count": 60,
     "metadata": {},
     "output_type": "execute_result"
    }
   ],
   "source": [
    "corr.head(corr.size)"
   ]
  },
  {
   "cell_type": "code",
   "execution_count": 61,
   "id": "cb609916",
   "metadata": {},
   "outputs": [
    {
     "data": {
      "image/png": "[encoded data removed]",
      "text/plain": [
       "<Figure size 500x500 with 2 Axes>"
      ]
     },
     "metadata": {},
     "output_type": "display_data"
    }
   ],
   "source": [
    "f,ax = plt.subplots(figsize=(5, 5))\n",
    "sns.heatmap(corr, annot=True, linewidths=.5, fmt= '.5f',ax=ax,)\n",
    "plt.show()"
   ]
  },
  {
   "cell_type": "code",
   "execution_count": 77,
   "id": "97ec0e4c",
   "metadata": {},
   "outputs": [
    {
     "data": {
      "image/png": "[encoded data removed]",
      "text/plain": [
       "<Figure size 600x600 with 2 Axes>"
      ]
     },
     "metadata": {},
     "output_type": "display_data"
    }
   ],
   "source": [
    "f,ax = plt.subplots(figsize=(6, 6))\n",
    "sns.heatmap(data.corr(), annot=True, linewidths=.5, fmt= '.1f',ax=ax,)\n",
    "plt.show()"
   ]
  },
  {
   "cell_type": "code",
   "execution_count": 75,
   "id": "c97add13",
   "metadata": {},
   "outputs": [],
   "source": [
    "def scatter_plot(names):\n",
    "    plt.scatter(data[names[0]][data[\"diseased\"]==1],data[names[1]][data[\"diseased\"]==1],color=\"red\",alpha=0.5,label=\"diseased\")\n",
    "    plt.scatter(data[names[0]][data[\"diseased\"]==0],data[names[1]][data[\"diseased\"]==0],color=\"blue\",alpha=0.6,label=\"not diseased\")\n",
    "    plt.xlabel(names[0])\n",
    "    plt.ylabel(names[1])\n",
    "    plt.legend()"
   ]
  },
  {
   "cell_type": "code",
   "execution_count": null,
   "id": "49954fe9",
   "metadata": {},
   "outputs": [],
   "source": []
  },
  {
   "cell_type": "code",
   "execution_count": 65,
   "id": "7a3f335a",
   "metadata": {},
   "outputs": [
    {
     "data": {
      "image/png": "[encoded data removed]",
      "text/plain": [
       "<Figure size 640x480 with 1 Axes>"
      ]
     },
     "metadata": {},
     "output_type": "display_data"
    }
   ],
   "source": [
    "sns.barplot(filtered_data,x=\"Age\",y=\"diseased\")\n",
    "plt.xticks(ticks=(0,1,2,3),labels=(\"18-32\",\"32-48\",\"48-64\",\"64-\"))\n",
    "plt.xlabel(\"Age groups\")\n",
    "plt.ylabel(\"diseased\")\n",
    "plt.show()"
   ]
  },
  {
   "cell_type": "code",
   "execution_count": 66,
   "id": "ebb6f356",
   "metadata": {},
   "outputs": [
    {
     "data": {
      "image/png": "[encoded data removed]",
      "text/plain": [
       "<Figure size 640x480 with 1 Axes>"
      ]
     },
     "metadata": {},
     "output_type": "display_data"
    }
   ],
   "source": [
    "sns.barplot(data,x=\"Sex\",y=\"diseased\")\n",
    "plt.xticks(ticks=(0,1),labels=(\"Male\",\"Female\"))\n",
    "plt.xlabel(\"Sex\")\n",
    "plt.ylabel(\"diseased\")\n",
    "plt.show()"
   ]
  },
  {
   "cell_type": "code",
   "execution_count": 67,
   "id": "8f39fbf8",
   "metadata": {},
   "outputs": [
    {
     "name": "stdout",
     "output_type": "stream",
     "text": [
      "when sex is female\n",
      "mild anemia count is : 154\n",
      "normal anemia count is : 0\n",
      "mild anemia count is : 1.0\n"
     ]
    }
   ],
   "source": [
    "female_mild_anemia=filtered_data[(filtered_data.Sex==1.0) & (filtered_data.HGB==0)][filtered_data.columns[0]].count()\n",
    "female_normal_anemia=filtered_data[(filtered_data.Sex==1.0) & (filtered_data.HGB==1)][filtered_data.columns[0]].count()\n",
    "female_anemia=filtered_data[filtered_data.Sex==1.0][\"S.No.\"].count()\n",
    "\n",
    "print(\"when sex is female\")\n",
    "print(\"mild anemia count is :\",female_mild_anemia)\n",
    "print(\"normal anemia count is :\",female_normal_anemia)\n",
    "print(\"mild anemia count is :\",female_mild_anemia/female_anemia)"
   ]
  },
  {
   "cell_type": "code",
   "execution_count": 68,
   "id": "aa8df148",
   "metadata": {},
   "outputs": [
    {
     "name": "stdout",
     "output_type": "stream",
     "text": [
      "when sex is male\n",
      "mild anemia count is : 184\n",
      "normal anemia count is : 0\n",
      "mild anemia count is : 1.0\n"
     ]
    }
   ],
   "source": [
    "male_mild_anemia=filtered_data[(filtered_data.Sex==0.0) & (filtered_data.HGB==0)][filtered_data.columns[0]].count()\n",
    "male_normal_anemia=filtered_data[(filtered_data.Sex==0.0) & (filtered_data.HGB==1)][filtered_data.columns[0]].count()\n",
    "male_anemia=filtered_data[filtered_data.Sex==0.0][\"S.No.\"].count()\n",
    "\n",
    "print(\"when sex is male\")\n",
    "print(\"mild anemia count is :\",male_mild_anemia)\n",
    "print(\"normal anemia count is :\",male_normal_anemia)\n",
    "print(\"mild anemia count is :\",male_mild_anemia/male_anemia)"
   ]
  },
  {
   "cell_type": "markdown",
   "id": "afec5ff0",
   "metadata": {},
   "source": [
    "# Creating Model and Testing"
   ]
  },
  {
   "cell_type": "code",
   "execution_count": 69,
   "id": "2b55571c",
   "metadata": {},
   "outputs": [],
   "source": [
    "y = filtered_data2.diseased"
   ]
  },
  {
   "cell_type": "code",
   "execution_count": 70,
   "id": "45704a3c",
   "metadata": {},
   "outputs": [],
   "source": [
    "x = filtered_data2.drop([\"diseased\"],axis=1)"
   ]
  },
  {
   "cell_type": "code",
   "execution_count": 71,
   "id": "7cbfb3d5",
   "metadata": {},
   "outputs": [],
   "source": [
    "from sklearn.model_selection import train_test_split\n",
    "\n",
    "x_train, x_test, y_train, y_test = train_test_split(x,y,test_size=0.3,random_state=42)"
   ]
  },
  {
   "cell_type": "code",
   "execution_count": 72,
   "id": "b4fd17b6",
   "metadata": {},
   "outputs": [
    {
     "data": {
      "text/plain": [
       "((236, 10), (102, 10), (236,), (102,))"
      ]
     },
     "execution_count": 72,
     "metadata": {},
     "output_type": "execute_result"
    }
   ],
   "source": [
    "x_train.shape, x_test.shape, y_train.shape, y_test.shape"
   ]
  },
  {
   "cell_type": "markdown",
   "id": "e9d95e9a",
   "metadata": {},
   "source": [
    "# Testing the Model¶"
   ]
  },
  {
   "cell_type": "code",
   "execution_count": 73,
   "id": "33104c6e",
   "metadata": {},
   "outputs": [
    {
     "name": "stdout",
     "output_type": "stream",
     "text": [
      "% 100.0\n"
     ]
    }
   ],
   "source": [
    "random_forest = RandomForestClassifier(n_estimators=100)\n",
    "random_forest.fit(x_train, y_train)\n",
    "y_pred = random_forest.predict(x_test)\n",
    "print(\"%\",r2_score(y_test,y_pred)*100)"
   ]
  },
  {
   "cell_type": "code",
   "execution_count": 74,
   "id": "fe741503",
   "metadata": {},
   "outputs": [
    {
     "ename": "ValueError",
     "evalue": "The number of FixedLocator locations (1), usually from a call to set_ticks, does not match the number of labels (2).",
     "output_type": "error",
     "traceback": [
      "\u001b[1;31m---------------------------------------------------------------------------\u001b[0m",
      "\u001b[1;31mValueError\u001b[0m                                Traceback (most recent call last)",
      "Cell \u001b[1;32mIn[74], line 6\u001b[0m\n\u001b[0;32m      4\u001b[0m ax\u001b[38;5;241m.\u001b[39mset_xlabel(\u001b[38;5;124m'\u001b[39m\u001b[38;5;124mPredicted labels\u001b[39m\u001b[38;5;124m'\u001b[39m);ax\u001b[38;5;241m.\u001b[39mset_ylabel(\u001b[38;5;124m'\u001b[39m\u001b[38;5;124mTrue labels\u001b[39m\u001b[38;5;124m'\u001b[39m); \n\u001b[0;32m      5\u001b[0m ax\u001b[38;5;241m.\u001b[39mset_title(\u001b[38;5;124m'\u001b[39m\u001b[38;5;124mConfusion Matrix\u001b[39m\u001b[38;5;124m'\u001b[39m); \n\u001b[1;32m----> 6\u001b[0m \u001b[43max\u001b[49m\u001b[38;5;241;43m.\u001b[39;49m\u001b[43mxaxis\u001b[49m\u001b[38;5;241;43m.\u001b[39;49m\u001b[43mset_ticklabels\u001b[49m\u001b[43m(\u001b[49m\u001b[43m[\u001b[49m\u001b[38;5;124;43m'\u001b[39;49m\u001b[38;5;124;43mdiseased\u001b[39;49m\u001b[38;5;124;43m'\u001b[39;49m\u001b[43m,\u001b[49m\u001b[38;5;124;43m'\u001b[39;49m\u001b[38;5;124;43mnot diseased\u001b[39;49m\u001b[38;5;124;43m'\u001b[39;49m\u001b[43m]\u001b[49m\u001b[43m)\u001b[49m; ax\u001b[38;5;241m.\u001b[39myaxis\u001b[38;5;241m.\u001b[39mset_ticklabels([\u001b[38;5;124m'\u001b[39m\u001b[38;5;124mdiseased\u001b[39m\u001b[38;5;124m'\u001b[39m,\u001b[38;5;124m'\u001b[39m\u001b[38;5;124mnot diseased\u001b[39m\u001b[38;5;124m'\u001b[39m])\n",
      "File \u001b[1;32m~\\anaconda3\\lib\\site-packages\\matplotlib\\_api\\deprecation.py:297\u001b[0m, in \u001b[0;36mrename_parameter.<locals>.wrapper\u001b[1;34m(*args, **kwargs)\u001b[0m\n\u001b[0;32m    292\u001b[0m     warn_deprecated(\n\u001b[0;32m    293\u001b[0m         since, message\u001b[38;5;241m=\u001b[39m\u001b[38;5;124mf\u001b[39m\u001b[38;5;124m\"\u001b[39m\u001b[38;5;124mThe \u001b[39m\u001b[38;5;132;01m{\u001b[39;00mold\u001b[38;5;132;01m!r}\u001b[39;00m\u001b[38;5;124m parameter of \u001b[39m\u001b[38;5;132;01m{\u001b[39;00mfunc\u001b[38;5;241m.\u001b[39m\u001b[38;5;18m__name__\u001b[39m\u001b[38;5;132;01m}\u001b[39;00m\u001b[38;5;124m() \u001b[39m\u001b[38;5;124m\"\u001b[39m\n\u001b[0;32m    294\u001b[0m         \u001b[38;5;124mf\u001b[39m\u001b[38;5;124m\"\u001b[39m\u001b[38;5;124mhas been renamed \u001b[39m\u001b[38;5;132;01m{\u001b[39;00mnew\u001b[38;5;132;01m!r}\u001b[39;00m\u001b[38;5;124m since Matplotlib \u001b[39m\u001b[38;5;132;01m{\u001b[39;00msince\u001b[38;5;132;01m}\u001b[39;00m\u001b[38;5;124m; support \u001b[39m\u001b[38;5;124m\"\u001b[39m\n\u001b[0;32m    295\u001b[0m         \u001b[38;5;124mf\u001b[39m\u001b[38;5;124m\"\u001b[39m\u001b[38;5;124mfor the old name will be dropped %(removal)s.\u001b[39m\u001b[38;5;124m\"\u001b[39m)\n\u001b[0;32m    296\u001b[0m     kwargs[new] \u001b[38;5;241m=\u001b[39m kwargs\u001b[38;5;241m.\u001b[39mpop(old)\n\u001b[1;32m--> 297\u001b[0m \u001b[38;5;28;01mreturn\u001b[39;00m func(\u001b[38;5;241m*\u001b[39margs, \u001b[38;5;241m*\u001b[39m\u001b[38;5;241m*\u001b[39mkwargs)\n",
      "File \u001b[1;32m~\\anaconda3\\lib\\site-packages\\matplotlib\\axis.py:1973\u001b[0m, in \u001b[0;36mAxis.set_ticklabels\u001b[1;34m(self, labels, minor, fontdict, **kwargs)\u001b[0m\n\u001b[0;32m   1969\u001b[0m \u001b[38;5;28;01mif\u001b[39;00m \u001b[38;5;28misinstance\u001b[39m(locator, mticker\u001b[38;5;241m.\u001b[39mFixedLocator):\n\u001b[0;32m   1970\u001b[0m     \u001b[38;5;66;03m# Passing [] as a list of labels is often used as a way to\u001b[39;00m\n\u001b[0;32m   1971\u001b[0m     \u001b[38;5;66;03m# remove all tick labels, so only error for > 0 labels\u001b[39;00m\n\u001b[0;32m   1972\u001b[0m     \u001b[38;5;28;01mif\u001b[39;00m \u001b[38;5;28mlen\u001b[39m(locator\u001b[38;5;241m.\u001b[39mlocs) \u001b[38;5;241m!=\u001b[39m \u001b[38;5;28mlen\u001b[39m(labels) \u001b[38;5;129;01mand\u001b[39;00m \u001b[38;5;28mlen\u001b[39m(labels) \u001b[38;5;241m!=\u001b[39m \u001b[38;5;241m0\u001b[39m:\n\u001b[1;32m-> 1973\u001b[0m         \u001b[38;5;28;01mraise\u001b[39;00m \u001b[38;5;167;01mValueError\u001b[39;00m(\n\u001b[0;32m   1974\u001b[0m             \u001b[38;5;124m\"\u001b[39m\u001b[38;5;124mThe number of FixedLocator locations\u001b[39m\u001b[38;5;124m\"\u001b[39m\n\u001b[0;32m   1975\u001b[0m             \u001b[38;5;124mf\u001b[39m\u001b[38;5;124m\"\u001b[39m\u001b[38;5;124m (\u001b[39m\u001b[38;5;132;01m{\u001b[39;00m\u001b[38;5;28mlen\u001b[39m(locator\u001b[38;5;241m.\u001b[39mlocs)\u001b[38;5;132;01m}\u001b[39;00m\u001b[38;5;124m), usually from a call to\u001b[39m\u001b[38;5;124m\"\u001b[39m\n\u001b[0;32m   1976\u001b[0m             \u001b[38;5;124m\"\u001b[39m\u001b[38;5;124m set_ticks, does not match\u001b[39m\u001b[38;5;124m\"\u001b[39m\n\u001b[0;32m   1977\u001b[0m             \u001b[38;5;124mf\u001b[39m\u001b[38;5;124m\"\u001b[39m\u001b[38;5;124m the number of labels (\u001b[39m\u001b[38;5;132;01m{\u001b[39;00m\u001b[38;5;28mlen\u001b[39m(labels)\u001b[38;5;132;01m}\u001b[39;00m\u001b[38;5;124m).\u001b[39m\u001b[38;5;124m\"\u001b[39m)\n\u001b[0;32m   1978\u001b[0m     tickd \u001b[38;5;241m=\u001b[39m {loc: lab \u001b[38;5;28;01mfor\u001b[39;00m loc, lab \u001b[38;5;129;01min\u001b[39;00m \u001b[38;5;28mzip\u001b[39m(locator\u001b[38;5;241m.\u001b[39mlocs, labels)}\n\u001b[0;32m   1979\u001b[0m     func \u001b[38;5;241m=\u001b[39m functools\u001b[38;5;241m.\u001b[39mpartial(\u001b[38;5;28mself\u001b[39m\u001b[38;5;241m.\u001b[39m_format_with_dict, tickd)\n",
      "\u001b[1;31mValueError\u001b[0m: The number of FixedLocator locations (1), usually from a call to set_ticks, does not match the number of labels (2)."
     ]
    },
    {
     "data": {
      "image/png": "[encoded data removed]",
      "text/plain": [
       "<Figure size 640x480 with 2 Axes>"
      ]
     },
     "metadata": {},
     "output_type": "display_data"
    }
   ],
   "source": [
    "cm = confusion_matrix(y_test,y_pred)\n",
    "ax= plt.subplot()\n",
    "sns.heatmap(cm, annot=True, fmt='g', ax=ax);\n",
    "ax.set_xlabel('Predicted labels');ax.set_ylabel('True labels'); \n",
    "ax.set_title('Confusion Matrix'); \n",
    "ax.xaxis.set_ticklabels(['diseased','not diseased']); ax.yaxis.set_ticklabels(['diseased','not diseased']);"
   ]
  },
  {
   "cell_type": "code",
   "execution_count": null,
   "id": "7ee4913f",
   "metadata": {},
   "outputs": [],
   "source": []
  }
 ],
 "metadata": {
  "kernelspec": {
   "display_name": "Python 3 (ipykernel)",
   "language": "python",
   "name": "python3"
  },
  "language_info": {
   "codemirror_mode": {
    "name": "ipython",
    "version": 3
   },
   "file_extension": ".py",
   "mimetype": "text/x-python",
   "name": "python",
   "nbconvert_exporter": "python",
   "pygments_lexer": "ipython3",
   "version": "3.10.9"
  }
 },
 "nbformat": 4,
 "nbformat_minor": 5
}
